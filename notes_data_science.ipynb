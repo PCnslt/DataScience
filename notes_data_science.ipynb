{
 "cells": [
  {
   "cell_type": "code",
   "execution_count": null,
   "id": "c8268ee4",
   "metadata": {
    "vscode": {
     "languageId": "plaintext"
    }
   },
   "outputs": [],
   "source": [
    "# Setup Sample Project with Miniconda and Conda"
   ]
  },
  {
   "cell_type": "markdown",
   "id": "3ac1eb31",
   "metadata": {},
   "source": [
    "conda create --prefix ./env pandas numpy matplotlib scikit-learn"
   ]
  },
  {
   "cell_type": "markdown",
   "id": "f7b2849e",
   "metadata": {},
   "source": [
    "conda env create --file environment.yml --name env_from_file"
   ]
  },
  {
   "cell_type": "markdown",
   "id": "2289bb0e",
   "metadata": {},
   "source": [
    "conda env export --prefix /Users/daniel/Desktop/project_1/env > environment.yml"
   ]
  }
 ],
 "metadata": {
  "language_info": {
   "name": "python"
  }
 },
 "nbformat": 4,
 "nbformat_minor": 5
}
