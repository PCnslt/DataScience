{
 "cells": [
  {
   "cell_type": "code",
   "execution_count": null,
   "id": "c8268ee4",
   "metadata": {
    "vscode": {
     "languageId": "plaintext"
    }
   },
   "outputs": [],
   "source": [
    "# Setup Sample Project with Miniconda and Conda"
   ]
  },
  {
   "cell_type": "markdown",
   "id": "3ac1eb31",
   "metadata": {},
   "source": [
    "conda create --prefix ./env pandas numpy matplotlib scikit-learn"
   ]
  }
 ],
 "metadata": {
  "language_info": {
   "name": "python"
  }
 },
 "nbformat": 4,
 "nbformat_minor": 5
}
